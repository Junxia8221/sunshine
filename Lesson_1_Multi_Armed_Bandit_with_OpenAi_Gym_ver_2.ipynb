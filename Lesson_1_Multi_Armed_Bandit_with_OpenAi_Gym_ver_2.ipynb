{
  "nbformat": 4,
  "nbformat_minor": 0,
  "metadata": {
    "colab": {
      "provenance": [],
      "include_colab_link": true
    },
    "kernelspec": {
      "name": "python3",
      "display_name": "Python 3"
    },
    "accelerator": "GPU"
  },
  "cells": [
    {
      "cell_type": "markdown",
      "metadata": {
        "id": "view-in-github",
        "colab_type": "text"
      },
      "source": [
        "<a href=\"https://colab.research.google.com/github/Junxia8221/sunshine/blob/main/Lesson_1_Multi_Armed_Bandit_with_OpenAi_Gym_ver_2.ipynb\" target=\"_parent\"><img src=\"https://colab.research.google.com/assets/colab-badge.svg\" alt=\"Open In Colab\"/></a>"
      ]
    },
    {
      "cell_type": "markdown",
      "metadata": {
        "id": "excxXVzFXgDf"
      },
      "source": [
        "# Lesson 1, exercise 1: The Multi Armed Bandit Problem with OpenAi Gym\n",
        "\n",
        "the purpose of this notebook is:\n",
        "\n",
        "\n",
        "\n",
        "1.   To understand the Gym Environment,\n",
        "2.   Implement Epsilon-Greedy on the bandit problem as discussed in the post\n",
        "3.   **Win at slot machines!!.**\n",
        "\n",
        "Lets get started!\n",
        "\n"
      ]
    },
    {
      "cell_type": "markdown",
      "metadata": {
        "id": "oO4T4NXwr9Ac"
      },
      "source": [
        "~"
      ]
    },
    {
      "cell_type": "markdown",
      "metadata": {
        "id": "soq1skOjrr6z"
      },
      "source": [
        "Some tips on using Colaboratory:\n",
        "\n",
        "1.   First off click **File**, on the menu above & **Save a copy in drive**, this will copy an instance to your google drive, to allow you to start running it!\n",
        "\n",
        "2.   Once the notebook has finished copying, go to your fresh copy and click **\"connect\"** in the top right hand corner of Colabs. This connects your computer to a power Virtual Machine sitting in Google's cloud."
      ]
    },
    {
      "cell_type": "markdown",
      "metadata": {
        "id": "kAloqi_arsyE"
      },
      "source": [
        "How to run it:\n",
        "\n",
        "\n",
        "**For those new to Colaboratory**, there are two types of \"cell blocks\" **text** (like the one you are reading right now) and **code**. For code Cell blocks just click the little play button in order to get the code to run. The play button looks like this:\n",
        "\n",
        "![alt text](https://image.ibb.co/i4sxHH/Screen_Shot_2018_04_10_at_3_04_50_pm.png)\n",
        "\n",
        "Or you can simply click the \"**Runtime**\" menu button up above, and click \"**Run all**\", sit back & watch colabs go to work.\n",
        "\n",
        "~~~~~\n"
      ]
    },
    {
      "cell_type": "markdown",
      "metadata": {
        "id": "VBwBIZPkZf_g"
      },
      "source": [
        "First we need to download & install the Gym Library so that it works in Colabs."
      ]
    },
    {
      "cell_type": "code",
      "metadata": {
        "id": "MoRJN4PpXsGH"
      },
      "source": [
        "!pip install gym > /dev/null 2>&1"
      ],
      "execution_count": null,
      "outputs": []
    },
    {
      "cell_type": "markdown",
      "metadata": {
        "id": "on5JDYmWaK-w"
      },
      "source": [
        "**Great!** now for our first bit of code\n"
      ]
    },
    {
      "cell_type": "markdown",
      "metadata": {
        "id": "p8fBpXyfbk89"
      },
      "source": [
        "Lets import the Gym class and walk through a basic example of Gym Code"
      ]
    },
    {
      "cell_type": "code",
      "metadata": {
        "id": "5hK-jC9ceDuY"
      },
      "source": [
        "import gym"
      ],
      "execution_count": null,
      "outputs": []
    },
    {
      "cell_type": "markdown",
      "metadata": {
        "id": "WLePIoe7VJXS"
      },
      "source": [
        "Gym's main purpose is to provide a large collection of \"environments\" that expose a common interface, using standardized inputs & outputs for Reinforcement Learning model testing purposes. You can find a listing of these environments below, as follows:"
      ]
    },
    {
      "cell_type": "code",
      "metadata": {
        "id": "twrKYXVAVIp8"
      },
      "source": [
        "from gym import envs\n",
        "print(envs.registry.all())"
      ],
      "execution_count": null,
      "outputs": []
    },
    {
      "cell_type": "markdown",
      "metadata": {
        "id": "QA-998XefX85"
      },
      "source": [
        "Unfortunatley, Gym does **not provide a bandit** environment so we need to import it, lets install one with the command below:"
      ]
    },
    {
      "cell_type": "code",
      "metadata": {
        "id": "sGDaa_u8fjO3"
      },
      "source": [
        "!git clone https://github.com/JKCooper2/gym-bandits.git > /dev/null 2>&1\n",
        "!pip install /content/gym-bandits/. > /dev/null 2>&1"
      ],
      "execution_count": null,
      "outputs": []
    },
    {
      "cell_type": "markdown",
      "metadata": {
        "id": "kogFWTLPhcjx"
      },
      "source": [
        "And import the bandit library too"
      ]
    },
    {
      "cell_type": "code",
      "metadata": {
        "id": "ecG0Xn0fhfd9"
      },
      "source": [
        "import gym_bandits"
      ],
      "execution_count": null,
      "outputs": []
    },
    {
      "cell_type": "markdown",
      "metadata": {
        "id": "jEkYlxG7cwjC"
      },
      "source": [
        "Unlike in the post, where there was only 2 bandits & we were trying to figure out on average which one paid out the most, this time around we are going to be dealing with **TEN** (10) bandits!!!"
      ]
    },
    {
      "cell_type": "markdown",
      "metadata": {
        "id": "nz924RhYdlif"
      },
      "source": [
        "Each bandit will have a payout with a normal distribution (bell curve), but the average payout or, centre of the distribution, will be different for each bandit, like in the image below"
      ]
    },
    {
      "cell_type": "markdown",
      "metadata": {
        "id": "0NJTjv1xmi29"
      },
      "source": [
        "![alt text](https://i.stack.imgur.com/SazYv.png)"
      ]
    },
    {
      "cell_type": "markdown",
      "metadata": {
        "id": "rDhrNHQLU2xu"
      },
      "source": [
        "."
      ]
    },
    {
      "cell_type": "markdown",
      "metadata": {
        "id": "2e5lDZlheZuZ"
      },
      "source": [
        "  >** >>>> It will be our goal to try & determine which bandit, out of the 10, pays out the most!!!!!!! <<<<**"
      ]
    },
    {
      "cell_type": "markdown",
      "metadata": {
        "id": "HIFfNSFiU4NU"
      },
      "source": [
        "."
      ]
    },
    {
      "cell_type": "markdown",
      "metadata": {
        "id": "9QFSX4fjxrh8"
      },
      "source": [
        "We want to randomly initialise our enviroment, do this by running the code below:"
      ]
    },
    {
      "cell_type": "code",
      "metadata": {
        "id": "NWI9R9BiybZl"
      },
      "source": [
        "#For this exercise we will be using a powerful python array library known as *numpy*, so lets import that.\n",
        "import numpy as np"
      ],
      "execution_count": null,
      "outputs": []
    },
    {
      "cell_type": "code",
      "metadata": {
        "id": "txOTaw3jxvhm"
      },
      "source": [
        "#rerun this part of the code if you would like to \"reset\" or reinitialize your bandit environement\n",
        "np.random.seed(42)"
      ],
      "execution_count": null,
      "outputs": []
    },
    {
      "cell_type": "markdown",
      "metadata": {
        "id": "6GA0H5L3UNDm"
      },
      "source": [
        "Lets make a a variable called \"env\" to hold our freshly created 10 arm multi bandit environment"
      ]
    },
    {
      "cell_type": "code",
      "metadata": {
        "id": "WJIh1OV_UMMT"
      },
      "source": [
        "#gaussian distribution is just another name for \"normal distribution\" or bell curve (so many different names for the same thing!)\n",
        "env = gym.make('BanditTenArmedGaussian-v0')"
      ],
      "execution_count": null,
      "outputs": []
    },
    {
      "cell_type": "markdown",
      "metadata": {
        "id": "8E8LePgXTWF6"
      },
      "source": [
        "."
      ]
    },
    {
      "cell_type": "markdown",
      "metadata": {
        "id": "tHDprdS4BI1Z"
      },
      "source": [
        "We are now going to go over a basic example of how OpenAi Gym works."
      ]
    },
    {
      "cell_type": "markdown",
      "metadata": {
        "id": "me9kN1MPWEEf"
      },
      "source": [
        "run the code below & then we will explain what is going on here piece by piece"
      ]
    },
    {
      "cell_type": "code",
      "metadata": {
        "id": "63v0tSoHbuwY"
      },
      "source": [
        "observation = env.reset()\n",
        "\n",
        "for i_episode in range(5):\n",
        "\n",
        "    print(\"episode Number is\", i_episode)\n",
        "\n",
        "    action = env.action_space.sample() # sampling the \"action\" array which in this case only contains 10 \"options\" because there is 10 bandits\n",
        "\n",
        "    print(\"action is\", action)\n",
        "\n",
        "\n",
        "    # here we taking the next \"step\" in our environment by taking in our action variable randomly selected above\n",
        "    observation, reward, done, info = env.step(action)\n",
        "\n",
        "    print(\"observation space is: \",observation)\n",
        "    print(\"reward variable is: \",reward)\n",
        "    print(\"done flag is: \",done)\n",
        "    print(\"info variable is: \",info)\n",
        "\n",
        "\n",
        "\n",
        "env.close()"
      ],
      "execution_count": null,
      "outputs": []
    },
    {
      "cell_type": "markdown",
      "metadata": {
        "id": "EHSzWhEmh1ha"
      },
      "source": [
        "."
      ]
    },
    {
      "cell_type": "markdown",
      "metadata": {
        "id": "MgJlSiCGbMBP"
      },
      "source": [
        "**Reinforcement Learning** is an **extremely broad machine learning \"framework\"**, that looks like this:"
      ]
    },
    {
      "cell_type": "markdown",
      "metadata": {
        "id": "T3aynRR6ZcOI"
      },
      "source": [
        "."
      ]
    },
    {
      "cell_type": "markdown",
      "metadata": {
        "id": "HkYTLOA3aphJ"
      },
      "source": [
        "\n",
        "\n",
        "![alt text](https://keon.io/images/deep-q-learning/rl.png)"
      ]
    },
    {
      "cell_type": "markdown",
      "metadata": {
        "id": "HJmgkP_PjNsT"
      },
      "source": [
        "explaining that picture above, The RL framework goes something like this:"
      ]
    },
    {
      "cell_type": "markdown",
      "metadata": {
        "id": "PZnKxZw_jWlo"
      },
      "source": [
        "\n",
        "\n",
        "1.   You have an **AGENT** (machine learning algorithm), it the image above the agent is a human brain, lol\n",
        "2.   The agent takes an **ACTION**, in the image above available actions are using the joystick, up, down, left, right and the red button. So five actions available (5) in total.\n",
        "3.   a single ACTION is chosen (from our available five from the joystick) and fed to our **ENVIRONMENT**, which in our example above is the Atari game environment\n",
        "4.   at this point our ENVIRONMENT measures how good the action taken was and produces a **REWARD** signal. a Postive number is usually good & negative number is usually bad.\n",
        "5.   the environment then produces an **OBSERVATION**, again using our example above, think of the OBSERVATION as the next graphical \"frame\" of the game. In RL, we also call observations **STATES**  \n",
        "6.   The new OBSERVATION & REWARD signal (produced by the old observation-action pair) is then fed back to AGENT for it to decide what move to make next and so on and so forth\n"
      ]
    },
    {
      "cell_type": "markdown",
      "metadata": {
        "id": "uH3nZ60oVUi8"
      },
      "source": [
        "However, lets now take the above framework and see how it is implements on our example \"toy problem\" of the multi armed bandit"
      ]
    },
    {
      "cell_type": "markdown",
      "metadata": {
        "id": "xuDzvJasVurw"
      },
      "source": [
        "Taking the code apart piece by piece"
      ]
    },
    {
      "cell_type": "markdown",
      "metadata": {
        "id": "HjHOjKpsVymi"
      },
      "source": [
        "we have already created our enviroment with this line of code:\n",
        "\n",
        "\n",
        "```\n",
        "env = gym.make('BanditTenArmedGaussian-v0')\n",
        "```\n",
        "\n"
      ]
    },
    {
      "cell_type": "markdown",
      "metadata": {
        "id": "rDCrgRjLVndy"
      },
      "source": [
        "but, we need to ask the environment to produce the first **OBSERVATION** (or as we also call it - state) so that we can feed it to our **AGENT** (the RL algorithm) to decide what to do next.\n"
      ]
    },
    {
      "cell_type": "markdown",
      "metadata": {
        "id": "aKrvnNKkX1V6"
      },
      "source": [
        "So next up we get the *first* OBSERVATION by calling the following code:\n",
        "\n",
        "\n",
        "\n",
        "```\n",
        "observation = env.reset()\n",
        "\n",
        "```\n"
      ]
    },
    {
      "cell_type": "markdown",
      "metadata": {
        "id": "oxIQ6ZDEYL4N"
      },
      "source": [
        "Next up, we create a 'for loop' that looped 5 times. In the Multi armed banded scenario an \"episode\" is just a single \"play\" of the game. So think of the For loop then as playing the multi armed bandit game 5 times.\n",
        "\n",
        "\n",
        "\n",
        "```\n",
        "for i_episode in range(5):\n",
        "```\n",
        "\n"
      ]
    },
    {
      "cell_type": "markdown",
      "metadata": {
        "id": "CceslAxIZBst"
      },
      "source": [
        "each **ENVIRONMENT** is different. That is to say, each environment gives us different **ACTIONS** that are available, different **OBSERVATIONS** that are available etc"
      ]
    },
    {
      "cell_type": "markdown",
      "metadata": {
        "id": "GFzJTTmFaTeu"
      },
      "source": [
        "For the *10 armed bandit problem,* we should have *ten actions available *to us (as there should be 10 different slot machines, each with a different lever to pull)"
      ]
    },
    {
      "cell_type": "markdown",
      "metadata": {
        "id": "IXRhRNz6aqxC"
      },
      "source": [
        "We can confirm this is the case by running the code below:"
      ]
    },
    {
      "cell_type": "code",
      "metadata": {
        "id": "GMBt0CDuaqGs"
      },
      "source": [
        "print(env.action_space)"
      ],
      "execution_count": null,
      "outputs": []
    },
    {
      "cell_type": "markdown",
      "metadata": {
        "id": "VeGThbjxbje3"
      },
      "source": [
        "So taking this back to our example code previous, the next thing we do is take an action,* by randomly sampling from the* **ACTION SPACE**. Again, dont worry. The ACTION SPACE is just a number assigned to each our bandits. EG [0,1,2,3,4,5,6,7,8,9]. So for our example if we randomly sample the ACTION SPACE and get back the number 8 - all this means is that we will be pulling the \"lever\" on bandit 8."
      ]
    },
    {
      "cell_type": "markdown",
      "metadata": {
        "id": "uM1J8_n4cbsT"
      },
      "source": [
        "It is also important to note that at this point - we have not implemented any machine learning yet. We are only choosing actions at random. So lets choose one then. This was done with this line of code:\n",
        "\n",
        "\n",
        "\n",
        "```\n",
        "action = env.action_space.sample()\n",
        "```\n",
        "\n"
      ]
    },
    {
      "cell_type": "markdown",
      "metadata": {
        "id": "H8v64MX8dKcU"
      },
      "source": [
        "We have now completed step 2 of our Reinforcement Learning framework discussed earlier. Lets now do step 3, feeding the action into the environment, this was achieved with this line of code\n",
        "\n",
        "\n",
        "\n",
        "```\n",
        "observation, reward, done, info = env.step(action)\n",
        "```\n",
        "\n"
      ]
    },
    {
      "cell_type": "markdown",
      "metadata": {
        "id": "r_j80CP2d3Va"
      },
      "source": [
        "The above line of code is actually doing a couple of things. We are feeding in our selected action with this line:\n",
        "\n",
        "\n",
        "\n",
        "```\n",
        "env.step(action)\n",
        "```\n",
        "\n"
      ]
    },
    {
      "cell_type": "code",
      "metadata": {
        "id": "PEQbORzXeUdP"
      },
      "source": [],
      "execution_count": null,
      "outputs": []
    },
    {
      "cell_type": "markdown",
      "metadata": {
        "id": "AwQ6JLupeHfY"
      },
      "source": [
        "And getting back 4 new variables in return , in this part of the code:\n",
        "\n",
        "\n",
        "\n",
        "```\n",
        "observation, reward, done, info =\n",
        "```\n",
        "\n"
      ]
    },
    {
      "cell_type": "markdown",
      "metadata": {
        "id": "JeAZp6rMeUfP"
      },
      "source": [
        "For now, we do not have to worry about the DONE and INFO variables. All we care about, in this tutorial is the OBSERVATION & REWARD variables. Also note that in this single line of code we have achieved step 4 & 5 of our RL framework discussed earlier in one go!"
      ]
    },
    {
      "cell_type": "markdown",
      "metadata": {
        "id": "nAC11E-Jfl7a"
      },
      "source": [
        "Where we now breakaway from the RL framework, is that, we are not feeding the **REWARD** & **OBSERVATION** variables back to any **AGENT** (aka step 6 from the framework) to do anything intelligent yet. This is because we yet to create an **AGENT**!!\n",
        "\n",
        "\n",
        "\n"
      ]
    },
    {
      "cell_type": "markdown",
      "metadata": {
        "id": "b-VohcmEjx2p"
      },
      "source": [
        "## Exercise 1: creating your first (very simple) Agent"
      ]
    },
    {
      "cell_type": "markdown",
      "metadata": {
        "id": "YRLF3R_Rj--G"
      },
      "source": [
        "We are now ready to create your very first agent, the epsilon Greedy algorithm"
      ]
    },
    {
      "cell_type": "markdown",
      "metadata": {
        "id": "2CsZVD-KkKmx"
      },
      "source": [
        "We will need to keep track of which agent is the best, we do this by creating a big table, with 10 cells, one for each bandit. In computer terms this table is known as an array. We are creating this array to keep track of which bandit is doing the best for every time we play a game.  As before we are using numpy to store our table."
      ]
    },
    {
      "cell_type": "code",
      "metadata": {
        "id": "1YbALrYCktJz"
      },
      "source": [
        "import numpy as np"
      ],
      "execution_count": null,
      "outputs": []
    },
    {
      "cell_type": "markdown",
      "metadata": {
        "id": "LuXsMBMTFosy"
      },
      "source": [
        "we also want to randomly initialise our enviroment, do this by running the code below:"
      ]
    },
    {
      "cell_type": "code",
      "metadata": {
        "id": "5cc_prTsFyhP"
      },
      "source": [
        "#rerun this part of the code if you would like to \"reset\" or reinitialize your bandit environement\n",
        "np.random.seed(<seed>)\n",
        "env.seed(34)"
      ],
      "execution_count": null,
      "outputs": []
    },
    {
      "cell_type": "markdown",
      "metadata": {
        "id": "i10ZSUORnzus"
      },
      "source": [
        "Let also make a variable that is the total number of bandits operating in our environment, **complete the code below:**"
      ]
    },
    {
      "cell_type": "code",
      "metadata": {
        "id": "1ASjY3yNn8BG"
      },
      "source": [
        "numberOfBandits = #???? hint we mentioned this number above"
      ],
      "execution_count": null,
      "outputs": []
    },
    {
      "cell_type": "markdown",
      "metadata": {
        "id": "hZTZsSATlJNw"
      },
      "source": [
        "we are going to call the array (remember this is just a table) which keeps track of which bandit is the best, a **Q TABLE**."
      ]
    },
    {
      "cell_type": "markdown",
      "metadata": {
        "id": "EFeQkqeTmW64"
      },
      "source": [
        "Q in this case just stands for quality. The idea being that the number that is the highest in our table, is associated with the action we would like to take with the highest quality. but we are getting a little ahead of ourselves. If you did not get that dont worry. It will all become apparent in a couple of lines of reading!"
      ]
    },
    {
      "cell_type": "markdown",
      "metadata": {
        "id": "iMBmGTs8nZ3M"
      },
      "source": [
        "we also want to initialize our table so that all of the values are ones at the start -avoiding a divide by zero error in our algorithm- so lets do that"
      ]
    },
    {
      "cell_type": "code",
      "metadata": {
        "id": "Zl4fw0YRnm2a"
      },
      "source": [
        "q_table = np.ones(numberOfBandits)"
      ],
      "execution_count": null,
      "outputs": []
    },
    {
      "cell_type": "markdown",
      "metadata": {
        "id": "Wadn4RHooEz3"
      },
      "source": [
        "Remember, we would like to keep track of the bandit with the *HIGHEST AVERAGE PAYOUT*. In order to do this we need another table to keep track of the number of times each bandit has been \"pulled\". We also want this table to be fulled with ones, this is to stop a divide by zero error later. **complete the code below:**"
      ]
    },
    {
      "cell_type": "code",
      "metadata": {
        "id": "0VfVlrZEoWdi"
      },
      "source": [
        "n_table = #????"
      ],
      "execution_count": null,
      "outputs": []
    },
    {
      "cell_type": "markdown",
      "metadata": {
        "id": "vgYR_56KpJ-_"
      },
      "source": [
        "In the lecture we talked a lot about epsilon. Lets create a new variable called \"epsilon\" and initialize it to 0.9. **complete the code below:**"
      ]
    },
    {
      "cell_type": "code",
      "metadata": {
        "id": "yLi2bsWCpf65"
      },
      "source": [
        "epsilon = #????"
      ],
      "execution_count": null,
      "outputs": []
    },
    {
      "cell_type": "markdown",
      "metadata": {
        "id": "T4cT-7cPtFQj"
      },
      "source": [
        "Below is the pseudo code for the epsilon greedy algorithm. In this implementation we are not going to vary epsilon - it is going to be a fixed number.\n",
        "\n",
        "This means that we will keep our exploration rate fixed."
      ]
    },
    {
      "cell_type": "markdown",
      "metadata": {
        "id": "7OaxMbsU37Sc"
      },
      "source": [
        "We will now give you the pseudo code (code recipe) on how to implement the epsilon greedy algorithm. Look below at the \"recipe\". If you need help, all the ingredients on how to implement each part are below in the pseudo code."
      ]
    },
    {
      "cell_type": "markdown",
      "metadata": {
        "id": "BaKRJx3Ft8US"
      },
      "source": [
        "\n",
        "\n",
        "```\n",
        "create a for loop, to loop 1000 times\n",
        "\n",
        "      (IF STATEMENT, inside the loop,) generate a random number between 0 and 1 , if this number is less than\n",
        "      Epsilon enter \"exploitation mode\" aka use the best bandit we have discovered so far\n",
        "      \n",
        "            (inside the if statement) get the POSITION (index) in our array of the current max value within our\n",
        "            table, this index is the bandit that is giving the best payout so far.\n",
        "            \n",
        "            (inside the if statement) set your ACTION variable equal to the index we discovered in the last\n",
        "            statement\n",
        "            \n",
        "      (ELSE, otherwise..) if the number is greater than or equal to Epsilon, go into \"exploration mode\" and\n",
        "      choose a bandit at random\n",
        "      \n",
        "          \n",
        "            (inside the if statement) generate a random number between 0 and THE_NUMBER_OF_BANDITS\n",
        "            \n",
        "            (inside the if statement) set your ACTION variable to equal to the random number we just generated.\n",
        "            \n",
        "        \n",
        "            \n",
        "      (inside the loop) feed our ACTION variable into our environment by updating it with a step generated\n",
        "      by either of the steps above\n",
        "      \n",
        "      (inside the loop) now that we have gained some new information from our environment we want to update our\n",
        "      Q_table. We do this using the formula: Q_n+1 = Q_n + (R - Q_n)/n or in simpler english:\n",
        "      \n",
        "      NewQvalue = OldQvalue + ((reward - OldQvalue)/numberOfTimesLeverHasBeenPulledForThisBandit)\n",
        "      \n",
        "      Lets think about the intituition of what this forumula is doing. Implement the formula in code.\n",
        "      \n",
        "      \n",
        "      (inside the loop) now that we have updated our Q table, we also need to update the table that is keeping\n",
        "      track of how many times each bandit's lever has been pulled. Do this by adding +1 in the position\n",
        "      of our currently selected bandit in the N_TABLE array\n",
        "      \n",
        "      \n",
        "(OUTSIDE the loop) once everything is done, we would like to print the Bandit with the highest score! Using\n",
        "a print statement, and numpy's argmax function, using our Q table, print the bandit with the highest\n",
        "AVERAGE payout\n",
        "      \n",
        "   \n",
        "   \n",
        "  \n",
        "```\n",
        "\n"
      ]
    },
    {
      "cell_type": "markdown",
      "metadata": {
        "id": "4hqS1uXaUgX7"
      },
      "source": [
        "."
      ]
    },
    {
      "cell_type": "markdown",
      "metadata": {
        "id": "FnAfeNYWUBod"
      },
      "source": [
        "**Here are all the pieces required to build the above:**"
      ]
    },
    {
      "cell_type": "markdown",
      "metadata": {
        "id": "vBbCYa3QUhrc"
      },
      "source": [
        "How to make a loop that loops a 10 times:"
      ]
    },
    {
      "cell_type": "code",
      "metadata": {
        "id": "KKGvYZUmUl1S"
      },
      "source": [
        "#notice the indentation of the print statement, this indicates that this function (the print statement), is \"inside\" the loop\n",
        "\n",
        "for k in range(10):\n",
        "  print(\"now in loop iteration number: \",k)"
      ],
      "execution_count": null,
      "outputs": []
    },
    {
      "cell_type": "markdown",
      "metadata": {
        "id": "XAU8WC0bUzs-"
      },
      "source": [
        "How to generate a random number between 0 & 1 using numpy:"
      ]
    },
    {
      "cell_type": "code",
      "metadata": {
        "id": "E2jW4cMFU9xt"
      },
      "source": [
        "#rerun this multiple times to generate a different random number\n",
        "#remember np stands for \"numpy\" as declared above\n",
        "\n",
        "randomNumber = np.random.random(1)[0]\n",
        "\n",
        "print(\"random number is \", randomNumber)"
      ],
      "execution_count": null,
      "outputs": []
    },
    {
      "cell_type": "markdown",
      "metadata": {
        "id": "n28zjNfQVXj3"
      },
      "source": [
        "How to create an if statement to see if our random number is less than epsilon"
      ]
    },
    {
      "cell_type": "code",
      "metadata": {
        "id": "elf3xvsVWcbW"
      },
      "source": [
        "#epsilon should be set to 0.9 above...\n",
        "\n",
        "if(randomNumber < epsilon):\n",
        "  print(\"doing something less than epsilon\")"
      ],
      "execution_count": null,
      "outputs": []
    },
    {
      "cell_type": "markdown",
      "metadata": {
        "id": "-ka0VSYXWu8l"
      },
      "source": [
        "How to create an if statement to see if our random number is less than epsilon and do something else if this is not the case"
      ]
    },
    {
      "cell_type": "code",
      "metadata": {
        "id": "ab6kK3F0Ws3J"
      },
      "source": [
        "if(randomNumber < epsilon):\n",
        "  print(\"doing something less than epsilon\")\n",
        "else:\n",
        "  print(\"doing something more than epsilon\")"
      ],
      "execution_count": null,
      "outputs": []
    },
    {
      "cell_type": "markdown",
      "metadata": {
        "id": "oYAlpVatXhwL"
      },
      "source": [
        "How to lookup the best bandit's *location* (index) in our Q table, again remember there are 10 values to choose from (10 bandits) & we need to look up the index (location) in our Q_table array of the bandit with the highest score. Numpy's argmax() function allows us to do this.\n"
      ]
    },
    {
      "cell_type": "code",
      "metadata": {
        "id": "rXuQ87hkXlpS"
      },
      "source": [
        "best_bandit = np.argmax(q_table)\n",
        "\n",
        "print(\"best bandit is \",best_bandit)"
      ],
      "execution_count": null,
      "outputs": []
    },
    {
      "cell_type": "markdown",
      "metadata": {
        "id": "hxbGaOG_YROy"
      },
      "source": [
        "how to assign the index of our best action so that OpenAi gym can understand it:"
      ]
    },
    {
      "cell_type": "code",
      "metadata": {
        "id": "IzD6aQHRYatW"
      },
      "source": [
        "action = best_bandit"
      ],
      "execution_count": null,
      "outputs": []
    },
    {
      "cell_type": "markdown",
      "metadata": {
        "id": "BYE8HoMPYmHX"
      },
      "source": [
        "how to generate a random bandit ACTION number between 0 to 9 to take:"
      ]
    },
    {
      "cell_type": "code",
      "metadata": {
        "id": "nds0qfLCY3d4"
      },
      "source": [
        "#run this multiple times to see different results\n",
        "random_number = np.random.randint(numberOfBandits)-1\n",
        "\n",
        "print(random_number)"
      ],
      "execution_count": null,
      "outputs": []
    },
    {
      "cell_type": "markdown",
      "metadata": {
        "id": "4A6eKeMfY7MG"
      },
      "source": [
        "how to update OpenAi gym one time step into the future"
      ]
    },
    {
      "cell_type": "code",
      "metadata": {
        "id": "vRPq3EN-ZB08"
      },
      "source": [
        "observation, reward, done, info = env.step(action)"
      ],
      "execution_count": null,
      "outputs": []
    },
    {
      "cell_type": "markdown",
      "metadata": {
        "id": "-PQn_PFOZP_Q"
      },
      "source": [
        "How to directly access a numpy array's value, in this example we are accessing the best bandit's so far payout"
      ]
    },
    {
      "cell_type": "code",
      "metadata": {
        "id": "JQ8CQpAlZVX2"
      },
      "source": [
        "example_table = np.array([2,3,1,0,5,7,9,8,6,4])\n",
        "\n",
        "example_table[best_bandit]"
      ],
      "execution_count": null,
      "outputs": []
    },
    {
      "cell_type": "markdown",
      "metadata": {
        "id": "YvrXwE05fZMc"
      },
      "source": [
        "To print out all the values of a numpy array for testing purposes, use this code"
      ]
    },
    {
      "cell_type": "code",
      "metadata": {
        "id": "eiyUZQggff5e"
      },
      "source": [
        "print(example_table[:])"
      ],
      "execution_count": null,
      "outputs": []
    },
    {
      "cell_type": "markdown",
      "metadata": {
        "id": "ie_RqC6LdCAQ"
      },
      "source": [
        "after looping 1000 times we would like to present our result - the best bandit out of the 10. Using Numpys argmax function:"
      ]
    },
    {
      "cell_type": "code",
      "metadata": {
        "id": "mvp8I-XBdfKv"
      },
      "source": [
        "# think about the result after running this relative to our example table above:\n",
        "\n",
        "print('and the best bandit is....', np.argmax(example_table))"
      ],
      "execution_count": null,
      "outputs": []
    },
    {
      "cell_type": "markdown",
      "metadata": {
        "id": "g9KqH2ScdvwI"
      },
      "source": [
        "## Code up Epsilon-greedy below"
      ]
    },
    {
      "cell_type": "markdown",
      "metadata": {
        "id": "kmH313czeI0u"
      },
      "source": [
        "We now have everything required to code up epsilon greedy. Using our **recipe**, and all the **blocks above,** code up an implementation of epsilon greedy below:"
      ]
    },
    {
      "cell_type": "code",
      "metadata": {
        "id": "LAIuudWtc-Sx"
      },
      "source": [
        "import numpy as np\n",
        "\n",
        "env.seed(34)\n",
        "\n",
        "numberOfBandits = 10\n",
        "q_table = np.zeros(numberofbandits)\n",
        "n_table = np.ones(numberofbandits)\n",
        "\n",
        "epsilon = 0.9\n",
        "\n",
        "## YOUR CODE GOES HERE"
      ],
      "execution_count": null,
      "outputs": []
    }
  ]
}